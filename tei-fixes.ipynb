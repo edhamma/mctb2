{
 "cells": [
  {
   "cell_type": "code",
   "execution_count": 26,
   "id": "288701ec-47a7-43f7-9eaa-50c73019fd47",
   "metadata": {},
   "outputs": [
    {
     "name": "stdout",
     "output_type": "stream",
     "text": [
      "p.sourceline=6111 One More Model\n",
      "p.sourceline=6100 U Pandita’s Model\n",
      "p.sourceline=5996 Fractals\n",
      "p.sourceline=5885 Bill Hamilton’s Model\n",
      "p.sourceline=3816 The Eighth Jhana, Neither Perception Nor Non-Perception\n",
      "p.sourceline=3764 The Seventh Jhana, Nothingness\n",
      "p.sourceline=3711 The Sixth Jhana, Boundless Consciousness\n",
      "p.sourceline=3659 The Fifth Jhana, Boundless Space\n",
      "p.sourceline=3601 The Fourth Shamatha Jhana\n",
      "p.sourceline=3538 The Third Shamatha Jhana\n",
      "p.sourceline=3509 The Second Shamatha Jhana\n",
      "p.sourceline=3382 The First Shamatha Jhana\n",
      "p.sourceline=3278 The Fourth Jhana\n",
      "p.sourceline=3251 The Third Jhana\n",
      "p.sourceline=3236 The Second Jhana\n",
      "p.sourceline=3212 The First Jhana\n",
      "p.sourceline=1899 When, Where, and For How Long?\n",
      "p.sourceline=1807 Truth Number Four: The Noble Eightfold Path\n",
      "p.sourceline=1798 Truth Number Three: There Is the End of Suffering\n",
      "p.sourceline=1734 Truth Number Two: There Is the Cause of Suffering\n",
      "p.sourceline=1706 Truth Number One: There Is Suffering\n",
      "p.sourceline=1594 The Play\n",
      "p.sourceline=1549 Suffering\n",
      "p.sourceline=1528 Renunciation\n",
      "p.sourceline=1522 Happiness\n",
      "p.sourceline=1439 Equanimity\n",
      "p.sourceline=1430 Concentration\n",
      "p.sourceline=1421 Tranquility\n",
      "p.sourceline=1380 Rapture\n",
      "p.sourceline=1339 Energy\n",
      "p.sourceline=1240 Investigation\n",
      "p.sourceline=1155 Mindfulness\n",
      "p.sourceline=1082 Mindfulness\n",
      "p.sourceline=1055 Energy and Concentration\n",
      "p.sourceline=1034 Faith and Wisdom\n",
      "p.sourceline=899 No-Self\n",
      "p.sourceline=812 Dissatisfactoriness\n",
      "p.sourceline=669 Impermanence\n"
     ]
    },
    {
     "data": {
      "text/plain": [
       "2098912"
      ]
     },
     "execution_count": 26,
     "metadata": {},
     "output_type": "execute_result"
    }
   ],
   "source": [
    "import rich, rich.pretty\n",
    "from lxml import etree\n",
    "import lxml.html\n",
    "\n",
    "mctb=etree.parse('mctb2.orig.tei',etree.XMLParser(remove_comments=True)).getroot()\n",
    "\n",
    "ll=set([669,812,899,1034,1055,1082,1155,1139,1240,1339,1380,1421,1430,1439,1522,1528,1549,1594,1706,1734,1798,1807,1899,3212,3236,3251,3278,3382,3509,3538,3601,3659,3711,3764,3816,5885,5996,6100,6111])\n",
    "titles=[]\n",
    "\n",
    "for p in reversed(mctb.xpath('.//p')):\n",
    "    if len(p)!=1 or p[0].tag!='span' or (p[0].text is None) or len(p[0].text)>60: continue\n",
    "    # if p.sourceline<3000: continue\n",
    "    if p.sourceline not in ll: continue\n",
    "    print(f'{p.sourceline=} {p[0].text}')\n",
    "    # continue\n",
    "    span=p[0]\n",
    "    head=span.text\n",
    "    titles.append(head)\n",
    "    p.tag='div'\n",
    "    p.attrib['type']='3-section'\n",
    "    p.attrib['name']=head\n",
    "    span.tag='head'\n",
    "    while (nx:=p.getnext()) is not None and nx.tag=='p':\n",
    "        p.append(nx)\n",
    "\n",
    "\n",
    "\n",
    "etree.indent(mctb,'  ')\n",
    "open('mctb2.tei','w').write(etree.tostring(mctb,encoding='unicode',pretty_print=True))"
   ]
  },
  {
   "cell_type": "code",
   "execution_count": 28,
   "id": "5a2c8523-1469-4f5f-846d-e0d959737569",
   "metadata": {},
   "outputs": [
    {
     "name": "stdout",
     "output_type": "stream",
     "text": [
      "titles=['One More Model', 'U Pandita’s Model', 'Fractals', 'Bill Hamilton’s Model', 'The Eighth Jhana, Neither Perception Nor Non-Perception', 'The Seventh Jhana, Nothingness', 'The Sixth Jhana, Boundless Consciousness', 'The Fifth Jhana, Boundless Space', 'The Fourth Shamatha Jhana', 'The Third Shamatha Jhana', 'The Second Shamatha Jhana', 'The First Shamatha Jhana', 'The Fourth Jhana', 'The Third Jhana', 'The Second Jhana', 'The First Jhana', 'When, Where, and For How Long?', 'Truth Number Four: The Noble Eightfold Path', 'Truth Number Three: There Is the End of Suffering', 'Truth Number Two: There Is the Cause of Suffering', 'Truth Number One: There Is Suffering', 'The Play', 'Suffering', 'Renunciation', 'Happiness', 'Equanimity', 'Concentration', 'Tranquility', 'Rapture', 'Energy', 'Investigation', 'Mindfulness', 'Mindfulness', 'Energy and Concentration', 'Faith and Wisdom', 'No-Self', 'Dissatisfactoriness', 'Impermanence']\n"
     ]
    }
   ],
   "source": [
    "print(f'{titles=}')"
   ]
  },
  {
   "cell_type": "code",
   "execution_count": null,
   "id": "e7844ba5-4294-451a-bddf-ecac18ce884f",
   "metadata": {},
   "outputs": [],
   "source": [
    "# for later reference, in case the TEI needs to be machine-modified again\n",
    "titles=['One More Model', 'U Pandita’s Model', 'Fractals', 'Bill Hamilton’s Model', 'The Eighth Jhana, Neither Perception Nor Non-Perception', 'The Seventh Jhana, Nothingness', 'The Sixth Jhana, Boundless Consciousness', 'The Fifth Jhana, Boundless Space', 'The Fourth Shamatha Jhana', 'The Third Shamatha Jhana', 'The Second Shamatha Jhana', 'The First Shamatha Jhana', 'The Fourth Jhana', 'The Third Jhana', 'The Second Jhana', 'The First Jhana', 'When, Where, and For How Long?', 'Truth Number Four: The Noble Eightfold Path', 'Truth Number Three: There Is the End of Suffering', 'Truth Number Two: There Is the Cause of Suffering', 'Truth Number One: There Is Suffering', 'The Play', 'Suffering', 'Renunciation', 'Happiness', 'Equanimity', 'Concentration', 'Tranquility', 'Rapture', 'Energy', 'Investigation', 'Mindfulness', 'Mindfulness', 'Energy and Concentration', 'Faith and Wisdom', 'No-Self', 'Dissatisfactoriness', 'Impermanence']"
   ]
  }
 ],
 "metadata": {
  "kernelspec": {
   "display_name": "Python 3 (ipykernel)",
   "language": "python",
   "name": "python3"
  },
  "language_info": {
   "codemirror_mode": {
    "name": "ipython",
    "version": 3
   },
   "file_extension": ".py",
   "mimetype": "text/x-python",
   "name": "python",
   "nbconvert_exporter": "python",
   "pygments_lexer": "ipython3",
   "version": "3.10.12"
  }
 },
 "nbformat": 4,
 "nbformat_minor": 5
}
