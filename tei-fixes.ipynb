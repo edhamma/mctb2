{
 "cells": [
  {
   "cell_type": "code",
   "execution_count": 18,
   "id": "288701ec-47a7-43f7-9eaa-50c73019fd47",
   "metadata": {},
   "outputs": [
    {
     "name": "stdout",
     "output_type": "stream",
     "text": [
      "span.text[:50]='Honesty about the truth of suffering is a relief; '\n",
      "span.text[:50]=', we find ten or fourteen kilesas emphasized as be'\n",
      "span.text[:50]='The five spiritual faculties are said to be like a'\n",
      "span.text[:50]=''\n",
      "span.text[:50]=''\n",
      "span.text[:50]=''\n",
      "span.text[:50]=''\n",
      "span.text[:50]=' section of the Pali canon written around the thir'\n",
      "span.text[:50]=', “As for the practicing yogi, he will at once rec'\n",
      "span.text[:50]='Meditation in dreams and lucid dreaming is common '\n",
      "span.text[:50]='What compounds our misery is the mental content we'\n",
      "span.text[:50]=' in Pali) also lasts just a moment, and after the '\n",
      "span.text[:50]=''\n",
      "span.text[:50]='Those with higher levels of understanding than you'\n",
      "span.text[:50]='To illustrate with the images we might notice whil'\n",
      "span.text[:50]=' that says that Desire for Deliverance, Re-observa'\n",
      "span.text[:50]='Some models assume that there is only one endpoint'\n",
      "span.text[:50]=', and of course meaning no offense to those whose '\n",
      "span.text[:50]='. '\n",
      "span.text[:50]='Regard your cherished ideals and the patterns of s'\n",
      "span.text[:50]='However, if we look at the life of the Buddha who,'\n",
      "span.text[:50]='His own order broke into warring factions, people '\n",
      "span.text[:50]=', that somehow none of this is them. The dharmakay'\n",
      "span.text[:50]='Also, lofty and idealizing spiritual teachings and'\n",
      "span.text[:50]='The third point about integration and living in th'\n",
      "span.text[:50]='.” These would give you about as much practical in'\n",
      "span.text[:50]='All around pervading everything everywhere. '\n",
      "span.text[:50]='Further, wisdom teachings have their own magick to'\n"
     ]
    }
   ],
   "source": [
    "import rich, rich.pretty\n",
    "from lxml import etree\n",
    "import lxml.html\n",
    "\n",
    "mctb=etree.parse('mctb2.orig.tei',etree.XMLParser(remove_comments=True)).getroot()\n",
    "\n",
    "if 0:\n",
    "    # ll=set([669,812,899,1034,1055,1082,1155,1139,1240,1339,1380,1421,1430,1439,1522,1528,1549,1594,1706,1734,1798,1807,1899,3212,3236,3251,3278,3382,3509,3538,3601,3659,3711,3764,3816,5885,5996,6100,6111])\n",
    "    # for later reference, in case the TEI needs to be machine-modified again\n",
    "    titles=['One More Model', 'U Pandita’s Model', 'Fractals', 'Bill Hamilton’s Model', 'The Eighth Jhana, Neither Perception Nor Non-Perception', 'The Seventh Jhana, Nothingness', 'The Sixth Jhana, Boundless Consciousness', 'The Fifth Jhana, Boundless Space', 'The Fourth Shamatha Jhana', 'The Third Shamatha Jhana', 'The Second Shamatha Jhana', 'The First Shamatha Jhana', 'The Fourth Jhana', 'The Third Jhana', 'The Second Jhana', 'The First Jhana', 'When, Where, and For How Long?', 'Truth Number Four: The Noble Eightfold Path', 'Truth Number Three: There Is the End of Suffering', 'Truth Number Two: There Is the Cause of Suffering', 'Truth Number One: There Is Suffering', 'The Play', 'Suffering', 'Renunciation', 'Happiness', 'Equanimity', 'Concentration', 'Tranquility', 'Rapture', 'Energy', 'Investigation', 'Mindfulness', 'Mindfulness', 'Energy and Concentration', 'Faith and Wisdom', 'Awakening', 'No-Self', 'Dissatisfactoriness', 'Impermanence']\n",
    "    #titles=[]\n",
    "    for p in reversed(mctb.xpath('.//p')):\n",
    "        if len(p)!=1 or p[0].tag!='span' or (p[0].text is None) or len(p[0].text)>60: continue\n",
    "        # if p.sourceline<3000: continue\n",
    "        # if p.sourceline not in ll: continue\n",
    "        if p[0].text not in titles: continue\n",
    "        print(f'{p.sourceline=} {p[0].text}')\n",
    "        # continue\n",
    "        span=p[0]\n",
    "        head=span.text\n",
    "        titles.append(head)\n",
    "        p.tag='div'\n",
    "        p.attrib['type']='3-section'\n",
    "        p.attrib['name']=head\n",
    "        span.tag='head'\n",
    "        while (nx:=p.getnext()) is not None and nx.tag=='p':\n",
    "            p.append(nx)\n",
    "    \n",
    "if 1:\n",
    "    for span in mctb.xpath('.//span'):\n",
    "        if span.text is None or '[' not in span.text: continue\n",
    "        ix0=span.text.index('[')\n",
    "        ix1=span.text.find(']')\n",
    "        if ix1==-1:\n",
    "            # print(ix0,ix1)\n",
    "            # print(span.text)\n",
    "            note=etree.Element('note')\n",
    "            note.attrib['place']='foott'\n",
    "            n0=etree.Element('span')\n",
    "            n0.text=span.text[ix0+1:]\n",
    "            span.text=span.text[:ix0]\n",
    "            print(f'{span.text[:50]=}')\n",
    "            note.append(n0)\n",
    "            while (nx:=span.getnext()) is not None and (nx.text is None or ']' not in nx.text):\n",
    "                note.append(nx)\n",
    "            ix1=nx.text.index(']')\n",
    "            assert ix1>=0\n",
    "            n1=etree.Element('span')\n",
    "            n1.text=nx.text[:ix1]\n",
    "            note.append(n1)\n",
    "            nx.text=nx.text[ix1+1:]\n",
    "            span.addnext(note)\n",
    "    for sp in mctb.xpath('.//span'):\n",
    "        if sp.text is None or sp.text=='':\n",
    "            sp.getparent().remove(sp)\n",
    "\n",
    "if 1:\n",
    "    etree.indent(mctb,'  ')\n",
    "    open('mctb2.tei','w').write(etree.tostring(mctb,encoding='unicode',pretty_print=True))"
   ]
  },
  {
   "cell_type": "code",
   "execution_count": 28,
   "id": "5a2c8523-1469-4f5f-846d-e0d959737569",
   "metadata": {},
   "outputs": [
    {
     "name": "stdout",
     "output_type": "stream",
     "text": [
      "titles=['One More Model', 'U Pandita’s Model', 'Fractals', 'Bill Hamilton’s Model', 'The Eighth Jhana, Neither Perception Nor Non-Perception', 'The Seventh Jhana, Nothingness', 'The Sixth Jhana, Boundless Consciousness', 'The Fifth Jhana, Boundless Space', 'The Fourth Shamatha Jhana', 'The Third Shamatha Jhana', 'The Second Shamatha Jhana', 'The First Shamatha Jhana', 'The Fourth Jhana', 'The Third Jhana', 'The Second Jhana', 'The First Jhana', 'When, Where, and For How Long?', 'Truth Number Four: The Noble Eightfold Path', 'Truth Number Three: There Is the End of Suffering', 'Truth Number Two: There Is the Cause of Suffering', 'Truth Number One: There Is Suffering', 'The Play', 'Suffering', 'Renunciation', 'Happiness', 'Equanimity', 'Concentration', 'Tranquility', 'Rapture', 'Energy', 'Investigation', 'Mindfulness', 'Mindfulness', 'Energy and Concentration', 'Faith and Wisdom', 'No-Self', 'Dissatisfactoriness', 'Impermanence']\n"
     ]
    }
   ],
   "source": [
    "print(f'{titles=}')"
   ]
  },
  {
   "cell_type": "code",
   "execution_count": 5,
   "id": "e7844ba5-4294-451a-bddf-ecac18ce884f",
   "metadata": {},
   "outputs": [
    {
     "data": {
      "text/plain": [
       "\u001b[0;31mDocstring:\u001b[0m\n",
       "S.find(sub[, start[, end]]) -> int\n",
       "\n",
       "Return the lowest index in S where substring sub is found,\n",
       "such that sub is contained within S[start:end].  Optional\n",
       "arguments start and end are interpreted as in slice notation.\n",
       "\n",
       "Return -1 on failure.\n",
       "\u001b[0;31mType:\u001b[0m      method_descriptor"
      ]
     },
     "metadata": {},
     "output_type": "display_data"
    }
   ],
   "source": [
    "str.find?"
   ]
  },
  {
   "cell_type": "code",
   "execution_count": null,
   "id": "a6c29ad8-00ca-43de-9bf5-8774b1331147",
   "metadata": {},
   "outputs": [],
   "source": []
  }
 ],
 "metadata": {
  "kernelspec": {
   "display_name": "Python 3 (ipykernel)",
   "language": "python",
   "name": "python3"
  },
  "language_info": {
   "codemirror_mode": {
    "name": "ipython",
    "version": 3
   },
   "file_extension": ".py",
   "mimetype": "text/x-python",
   "name": "python",
   "nbconvert_exporter": "python",
   "pygments_lexer": "ipython3",
   "version": "3.10.12"
  }
 },
 "nbformat": 4,
 "nbformat_minor": 5
}
